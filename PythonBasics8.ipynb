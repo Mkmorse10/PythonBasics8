{
 "cells": [
  {
   "cell_type": "markdown",
   "metadata": {},
   "source": [
    "# Creating A Dictionary"
   ]
  },
  {
   "cell_type": "code",
   "execution_count": 1,
   "metadata": {},
   "outputs": [],
   "source": [
    "C_Codes = {'Denmark': 'DEN', 'South Africa': 'SA', 'Nepal': 'NP'}"
   ]
  },
  {
   "cell_type": "code",
   "execution_count": 2,
   "metadata": {},
   "outputs": [
    {
     "data": {
      "text/plain": [
       "{'Denmark': 'DEN', 'South Africa': 'SA', 'Nepal': 'NP'}"
      ]
     },
     "execution_count": 2,
     "metadata": {},
     "output_type": "execute_result"
    }
   ],
   "source": [
    "C_Codes"
   ]
  },
  {
   "cell_type": "markdown",
   "metadata": {},
   "source": [
    "# Is The Dictionary Empty? "
   ]
  },
  {
   "cell_type": "code",
   "execution_count": 3,
   "metadata": {},
   "outputs": [
    {
     "data": {
      "text/plain": [
       "3"
      ]
     },
     "execution_count": 3,
     "metadata": {},
     "output_type": "execute_result"
    }
   ],
   "source": [
    "len(C_Codes)"
   ]
  },
  {
   "cell_type": "code",
   "execution_count": 4,
   "metadata": {},
   "outputs": [
    {
     "name": "stdout",
     "output_type": "stream",
     "text": [
      "country codes are not empty\n"
     ]
    }
   ],
   "source": [
    "if C_Codes:\n",
    "    print('country codes are not empty')\n",
    "else: \n",
    "    print('country codes are empty')"
   ]
  },
  {
   "cell_type": "markdown",
   "metadata": {},
   "source": [
    "# Clearing A Dictionary"
   ]
  },
  {
   "cell_type": "code",
   "execution_count": 5,
   "metadata": {},
   "outputs": [
    {
     "name": "stdout",
     "output_type": "stream",
     "text": [
      "country codes are empty\n"
     ]
    }
   ],
   "source": [
    "C_Codes.clear()\n",
    "\n",
    "if C_Codes:\n",
    "    print('country codes are not empty')\n",
    "else: \n",
    "    print('country codes are empty')"
   ]
  },
  {
   "cell_type": "markdown",
   "metadata": {},
   "source": [
    "# Iterating Through A Dictionary"
   ]
  },
  {
   "cell_type": "code",
   "execution_count": 6,
   "metadata": {},
   "outputs": [],
   "source": [
    "days_per_month = {'January': 31, 'February':28, 'March':31, 'April': 30, 'May': 31, 'June':30,'July':31,'August':31,'September':30, 'October':31, 'Novemeber':30,'Decemeber':31}"
   ]
  },
  {
   "cell_type": "code",
   "execution_count": 7,
   "metadata": {},
   "outputs": [
    {
     "data": {
      "text/plain": [
       "{'January': 31,\n",
       " 'February': 28,\n",
       " 'March': 31,\n",
       " 'April': 30,\n",
       " 'May': 31,\n",
       " 'June': 30,\n",
       " 'July': 31,\n",
       " 'August': 31,\n",
       " 'September': 30,\n",
       " 'October': 31,\n",
       " 'Novemeber': 30,\n",
       " 'Decemeber': 31}"
      ]
     },
     "execution_count": 7,
     "metadata": {},
     "output_type": "execute_result"
    }
   ],
   "source": [
    "days_per_month"
   ]
  },
  {
   "cell_type": "code",
   "execution_count": 8,
   "metadata": {},
   "outputs": [
    {
     "name": "stdout",
     "output_type": "stream",
     "text": [
      "January has 31 days\n",
      "February has 28 days\n",
      "March has 31 days\n",
      "April has 30 days\n",
      "May has 31 days\n",
      "June has 30 days\n",
      "July has 31 days\n",
      "August has 31 days\n",
      "September has 30 days\n",
      "October has 31 days\n",
      "Novemeber has 30 days\n",
      "Decemeber has 31 days\n"
     ]
    }
   ],
   "source": [
    "for month,days in days_per_month.items():\n",
    "    print(f'{month} has {days} days')"
   ]
  },
  {
   "cell_type": "markdown",
   "metadata": {},
   "source": [
    "## Update Method For A Dictionary"
   ]
  },
  {
   "cell_type": "code",
   "execution_count": 9,
   "metadata": {},
   "outputs": [],
   "source": [
    "C_Codes = {'Denmark': 'DEN', 'South Africa': 'SA', 'Nepal': 'NP'}"
   ]
  },
  {
   "cell_type": "code",
   "execution_count": 12,
   "metadata": {},
   "outputs": [],
   "source": [
    "C_Codes.update({'America':'USA'})"
   ]
  },
  {
   "cell_type": "code",
   "execution_count": 13,
   "metadata": {},
   "outputs": [
    {
     "data": {
      "text/plain": [
       "{'Denmark': 'DEN', 'South Africa': 'SA', 'Nepal': 'NP', 'America': 'USA'}"
      ]
     },
     "execution_count": 13,
     "metadata": {},
     "output_type": "execute_result"
    }
   ],
   "source": [
    "C_Codes"
   ]
  },
  {
   "cell_type": "markdown",
   "metadata": {},
   "source": [
    "# Word Counter Dictionary"
   ]
  },
  {
   "cell_type": "code",
   "execution_count": 14,
   "metadata": {},
   "outputs": [],
   "source": [
    "from collections import Counter"
   ]
  },
  {
   "cell_type": "code",
   "execution_count": 23,
   "metadata": {},
   "outputs": [
    {
     "name": "stdout",
     "output_type": "stream",
     "text": [
      "17,                 1\n",
      "33                  1\n",
      "And                 1\n",
      "I                   7\n",
      "It                  1\n",
      "When                1\n",
      "a                   2\n",
      "about               1\n",
      "am                  1\n",
      "an                  1\n",
      "and                 2\n",
      "answer              1\n",
      "as                  1\n",
      "asked               1\n",
      "be                  1\n",
      "been                1\n",
      "certainly           1\n",
      "change              1\n",
      "day                 2\n",
      "days                1\n",
      "do                  2\n",
      "each                1\n",
      "every               1\n",
      "for                 2\n",
      "has                 1\n",
      "have                1\n",
      "if                  1\n",
      "impression          1\n",
      "in                  2\n",
      "it                  1\n",
      "know                1\n",
      "last                1\n",
      "last,               1\n",
      "life,               1\n",
      "like:\"If            1\n",
      "live                1\n",
      "looked              1\n",
      "made                1\n",
      "many                1\n",
      "me,                 1\n",
      "mirror              1\n",
      "morning             1\n",
      "most                1\n",
      "my                  1\n",
      "myself:             1\n",
      "need                1\n",
      "of                  1\n",
      "on                  1\n",
      "past                1\n",
      "quote               1\n",
      "read                1\n",
      "right.”             1\n",
      "row,                1\n",
      "since               1\n",
      "someday             1\n",
      "something           1\n",
      "something.          1\n",
      "that                1\n",
      "the                 4\n",
      "then,               1\n",
      "to                  3\n",
      "today               1\n",
      "today?”             1\n",
      "too                 1\n",
      "want                1\n",
      "was                 2\n",
      "went                1\n",
      "were                1\n",
      "what                1\n",
      "whenever            1\n",
      "would               1\n",
      "years,              1\n",
      "you                 1\n",
      "your                1\n",
      "you’ll              1\n",
      "“If                 1\n",
      "“No”                1\n"
     ]
    }
   ],
   "source": [
    "#Steve jobs Speech 2005  \n",
    "text = ('When I was 17, I read a quote that went something like:' \n",
    "        '\"If you live each day as if it was your last, someday you’ll most certainly be right.” '\n",
    "        'It made an impression on me, and since then, for the past 33 years, I have looked in the mirror every morning '\n",
    "        'and asked myself: “If today were the last day of my life, would I want to do what I am about to do today?” '\n",
    "        'And whenever the answer has been “No” for too many days in a row, I know I need to change something.')\n",
    "\n",
    "counter = Counter (text.split())\n",
    "    \n",
    "for word, count in sorted(counter.items()):\n",
    "    print(f'{word:<20}{count}')"
   ]
  },
  {
   "cell_type": "code",
   "execution_count": 20,
   "metadata": {},
   "outputs": [
    {
     "name": "stdout",
     "output_type": "stream",
     "text": [
      "Number of unique keys: 78\n"
     ]
    }
   ],
   "source": [
    "print ('Number of unique keys:', len(counter.keys()))"
   ]
  },
  {
   "cell_type": "code",
   "execution_count": null,
   "metadata": {},
   "outputs": [],
   "source": []
  }
 ],
 "metadata": {
  "kernelspec": {
   "display_name": "Python 3",
   "language": "python",
   "name": "python3"
  },
  "language_info": {
   "codemirror_mode": {
    "name": "ipython",
    "version": 3
   },
   "file_extension": ".py",
   "mimetype": "text/x-python",
   "name": "python",
   "nbconvert_exporter": "python",
   "pygments_lexer": "ipython3",
   "version": "3.7.6"
  }
 },
 "nbformat": 4,
 "nbformat_minor": 4
}
